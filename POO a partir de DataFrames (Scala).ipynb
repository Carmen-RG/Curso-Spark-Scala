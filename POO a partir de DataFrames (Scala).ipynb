{
 "cells": [
  {
   "cell_type": "markdown",
   "id": "ec5bb49c",
   "metadata": {},
   "source": [
    "# Programación orientada a objetos a partir de DataFrames (Scala)"
   ]
  },
  {
   "cell_type": "markdown",
   "id": "e48f4c43",
   "metadata": {},
   "source": [
    "## 1. Declaración de la clase class "
   ]
  },
  {
   "cell_type": "markdown",
   "id": "f0547207",
   "metadata": {},
   "source": [
    "Declaramos la case class con los mismos atributos que los registros finales del DataFrame (los nombres de los atributos deben ser idénticos). "
   ]
  },
  {
   "cell_type": "code",
   "execution_count": 55,
   "id": "d819a2cb",
   "metadata": {},
   "outputs": [
    {
     "data": {
      "text/plain": [
       "defined class Flight\r\n"
      ]
     },
     "execution_count": 55,
     "metadata": {},
     "output_type": "execute_result"
    }
   ],
   "source": [
    "case class Flight(DEST_COUNTRY_NAME: String,\n",
    "numberFlights: BigInt)"
   ]
  },
  {
   "cell_type": "markdown",
   "id": "08d86313",
   "metadata": {},
   "source": [
    "## 2. Creación de un DataFrame con los datos y transformación de los datos"
   ]
  },
  {
   "cell_type": "markdown",
   "id": "1f86eaa5",
   "metadata": {},
   "source": [
    "### 2.1 Lectura de los datos"
   ]
  },
  {
   "cell_type": "code",
   "execution_count": 74,
   "id": "5aac6ec5",
   "metadata": {},
   "outputs": [
    {
     "data": {
      "text/plain": [
       "data: org.apache.spark.sql.DataFrame = [DEST_COUNTRY_NAME: string, ORIGIN_COUNTRY_NAME: string ... 1 more field]\r\n"
      ]
     },
     "execution_count": 74,
     "metadata": {},
     "output_type": "execute_result"
    }
   ],
   "source": [
    "val data = spark\n",
    ".read\n",
    ".option(\"inferSchema\", \"true\")\n",
    ".option(\"header\", \"true\")\n",
    ".csv(\"2015-summary.csv\")"
   ]
  },
  {
   "cell_type": "markdown",
   "id": "93aa65a0",
   "metadata": {},
   "source": [
    "### 2.2 Transformación de los datos"
   ]
  },
  {
   "cell_type": "markdown",
   "id": "7f98e2c3",
   "metadata": {},
   "source": [
    "Transformación de los datos. \n",
    "\n",
    "En este caso:\n",
    "\n",
    "- Agrupar por país de destino del vuelo: \"`.groupBy(\" <columna> \")` y \"`.sum(\"count\")`\"\n",
    "\n",
    "- Renombrar el registro sum(\"count\"): \"`.withColumnRenamed(\" <nombreOriginal> \", \" <nombreFinal> \")`\"\n",
    "\n",
    "- Ordenar por orden descendiente: \"`.sort(desc(\" <columna> \")`\""
   ]
  },
  {
   "cell_type": "code",
   "execution_count": 75,
   "id": "e391e8c9",
   "metadata": {},
   "outputs": [
    {
     "name": "stdout",
     "output_type": "stream",
     "text": [
      "+------------------+-------------+\n",
      "| DEST_COUNTRY_NAME|numberFlights|\n",
      "+------------------+-------------+\n",
      "|     United States|       411352|\n",
      "|            Canada|         8399|\n",
      "|            Mexico|         7140|\n",
      "|    United Kingdom|         2025|\n",
      "|             Japan|         1548|\n",
      "|           Germany|         1468|\n",
      "|Dominican Republic|         1353|\n",
      "|       South Korea|         1048|\n",
      "|       The Bahamas|          955|\n",
      "|            France|          935|\n",
      "|          Colombia|          873|\n",
      "|            Brazil|          853|\n",
      "|       Netherlands|          776|\n",
      "|             China|          772|\n",
      "|           Jamaica|          666|\n",
      "|        Costa Rica|          588|\n",
      "|       El Salvador|          561|\n",
      "|            Panama|          510|\n",
      "|              Cuba|          466|\n",
      "|             Spain|          420|\n",
      "+------------------+-------------+\n",
      "only showing top 20 rows\n",
      "\r\n"
     ]
    },
    {
     "data": {
      "text/plain": [
       "groupedData: org.apache.spark.sql.Dataset[org.apache.spark.sql.Row] = [DEST_COUNTRY_NAME: string, numberFlights: bigint]\r\n"
      ]
     },
     "execution_count": 75,
     "metadata": {},
     "output_type": "execute_result"
    }
   ],
   "source": [
    "val groupedData = data.groupBy(\"DEST_COUNTRY_NAME\").sum(\"count\").withColumnRenamed(\"sum(count)\", \"numberFlights\").sort(desc(\"numberFlights\"))\n",
    "\n",
    "groupedData.show()"
   ]
  },
  {
   "cell_type": "markdown",
   "id": "ecadba79",
   "metadata": {},
   "source": [
    "## 3. Conversión de los datos en objetos"
   ]
  },
  {
   "cell_type": "markdown",
   "id": "93b96ec5",
   "metadata": {},
   "source": [
    "Conversión de cada registro en objetos de tipo Flight con la función \"`.as[<clase>]`\", que agrupamos en un array con la función \"`.collect()`\":"
   ]
  },
  {
   "cell_type": "code",
   "execution_count": 76,
   "id": "00f8324a",
   "metadata": {
    "scrolled": true
   },
   "outputs": [
    {
     "data": {
      "text/plain": [
       "flights: Array[Flight] = Array(Flight(United States,411352), Flight(Canada,8399), Flight(Mexico,7140), Flight(United Kingdom,2025), Flight(Japan,1548), Flight(Germany,1468), Flight(Dominican Republic,1353), Flight(South Korea,1048), Flight(The Bahamas,955), Flight(France,935), Flight(Colombia,873), Flight(Brazil,853), Flight(Netherlands,776), Flight(China,772), Flight(Jamaica,666), Flight(Costa Rica,588), Flight(El Salvador,561), Flight(Panama,510), Flight(Cuba,466), Flight(Spain,420), Flight(Guatemala,397), Flight(Italy,382), Flight(Honduras,362), Flight(Aruba,346), Flight(Ireland,335), Flight(Hong Kong,332), Flight(Australia,329), Flight(Sint Maarten,325), Flight(United Arab Emirates,320), Flight(Cayman Islands,314), Flight(Switzerland,294), Flight(Venezuela,290), Flight(Peru,279), Fl...\r\n"
      ]
     },
     "execution_count": 76,
     "metadata": {},
     "output_type": "execute_result"
    }
   ],
   "source": [
    "val flights = groupedData.as[Flight].collect()"
   ]
  },
  {
   "cell_type": "markdown",
   "id": "0f93a8dc",
   "metadata": {},
   "source": [
    "Ahora podemos acceder a cada uno de esos objetos:"
   ]
  },
  {
   "cell_type": "code",
   "execution_count": 77,
   "id": "fed8744f",
   "metadata": {},
   "outputs": [
    {
     "data": {
      "text/plain": [
       "res50: Flight = Flight(United States,411352)\r\n"
      ]
     },
     "execution_count": 77,
     "metadata": {},
     "output_type": "execute_result"
    }
   ],
   "source": [
    "flights(0)"
   ]
  },
  {
   "cell_type": "code",
   "execution_count": 78,
   "id": "4c4b22f7",
   "metadata": {},
   "outputs": [
    {
     "data": {
      "text/plain": [
       "res51: String = United States\r\n"
      ]
     },
     "execution_count": 78,
     "metadata": {},
     "output_type": "execute_result"
    }
   ],
   "source": [
    "flights(0).DEST_COUNTRY_NAME"
   ]
  },
  {
   "cell_type": "code",
   "execution_count": 79,
   "id": "6cafe9f9",
   "metadata": {},
   "outputs": [
    {
     "name": "stdout",
     "output_type": "stream",
     "text": [
      "United States 411352\n",
      "Canada 8399\n",
      "Mexico 7140\n",
      "United Kingdom 2025\n",
      "Japan 1548\n",
      "Germany 1468\n",
      "Dominican Republic 1353\n",
      "South Korea 1048\n",
      "The Bahamas 955\n",
      "France 935\n",
      "Colombia 873\n",
      "Brazil 853\n",
      "Netherlands 776\n",
      "China 772\n",
      "Jamaica 666\n",
      "Costa Rica 588\n",
      "El Salvador 561\n",
      "Panama 510\n",
      "Cuba 466\n",
      "Spain 420\n",
      "Guatemala 397\n",
      "Italy 382\n",
      "Honduras 362\n",
      "Aruba 346\n",
      "Ireland 335\n",
      "Hong Kong 332\n",
      "Australia 329\n",
      "Sint Maarten 325\n",
      "United Arab Emirates 320\n",
      "Cayman Islands 314\n",
      "Switzerland 294\n",
      "Venezuela 290\n",
      "Peru 279\n",
      "Ecuador 268\n",
      "Taiwan 266\n",
      "Belgium 259\n",
      "Turks and Caicos Islands 230\n",
      "Haiti 226\n",
      "Trinidad and Tobago 211\n",
      "Belize 188\n",
      "Bermuda 183\n",
      "Iceland 181\n",
      "Argentina 180\n",
      "Nicaragua 179\n",
      "Russia 176\n",
      "Chile 174\n",
      "Luxembourg 155\n",
      "Barbados 154\n",
      "Denmark 153\n",
      "Saint Kitts and Nevis 139\n",
      "Turkey 138\n",
      "Philippines 134\n",
      "Israel 134\n",
      "Portugal 127\n",
      "Antigua and Barbuda 126\n",
      "Saint Lucia 123\n",
      "Norway 121\n",
      "Sweden 118\n",
      "New Zealand 111\n",
      "Qatar 108\n",
      "British Virgin Islands 107\n",
      "Curacao 90\n",
      "Saudi Arabia 83\n",
      "Federated States of Micronesia 69\n",
      "Guyana 64\n",
      "Austria 62\n",
      "India 61\n",
      "Paraguay 60\n",
      "Nigeria 59\n",
      "Bonaire, Sint Eustatius, and Saba 58\n",
      "Guadeloupe 56\n",
      "Grenada 53\n",
      "Jordan 44\n",
      "Martinique 44\n",
      "French Polynesia 43\n",
      "Uruguay 43\n",
      "Marshall Islands 42\n",
      "Anguilla 41\n",
      "Senegal 40\n",
      "Saint Barthelemy 39\n",
      "South Africa 36\n",
      "Kuwait 32\n",
      "Poland 32\n",
      "Palau 30\n",
      "Greece 30\n",
      "Bolivia 30\n",
      "Kiribati 26\n",
      "Finland 26\n",
      "Samoa 25\n",
      "Fiji 24\n",
      "Azerbaijan 21\n",
      "Dominica 20\n",
      "Cape Verde 20\n",
      "Latvia 19\n",
      "Bahrain 19\n",
      "Ghana 18\n",
      "Angola 15\n",
      "Morocco 15\n",
      "Egypt 15\n",
      "Ukraine 14\n",
      "Romania 14\n",
      "Ethiopia 13\n",
      "Czech Republic 13\n",
      "Cook Islands 13\n",
      "Pakistan 12\n",
      "French Guiana 5\n",
      "Algeria 4\n",
      "Singapore 3\n",
      "Thailand 3\n",
      "Tunisia 3\n",
      "Papua New Guinea 3\n",
      "Bulgaria 3\n",
      "Malaysia 2\n",
      "Croatia 2\n",
      "Niger 2\n",
      "Georgia 2\n",
      "Liberia 2\n",
      "Greenland 2\n",
      "Hungary 2\n",
      "Djibouti 1\n",
      "Iraq 1\n",
      "Kosovo 1\n",
      "New Caledonia 1\n",
      "Malta 1\n",
      "Suriname 1\n",
      "Cyprus 1\n",
      "Cote d'Ivoire 1\n",
      "Indonesia 1\n",
      "Saint Vincent and the Grenadines 1\n",
      "Zambia 1\n",
      "Burkina Faso 1\n",
      "Moldova 1\n"
     ]
    }
   ],
   "source": [
    "for (f <- flights)\n",
    "{\n",
    "    println(f.DEST_COUNTRY_NAME + \" \" + f.numberFlights)\n",
    "}"
   ]
  }
 ],
 "metadata": {
  "kernelspec": {
   "display_name": "spylon-kernel",
   "language": "scala",
   "name": "spylon-kernel"
  },
  "language_info": {
   "codemirror_mode": "text/x-scala",
   "file_extension": ".scala",
   "help_links": [
    {
     "text": "MetaKernel Magics",
     "url": "https://metakernel.readthedocs.io/en/latest/source/README.html"
    }
   ],
   "mimetype": "text/x-scala",
   "name": "scala",
   "pygments_lexer": "scala",
   "version": "0.4.1"
  }
 },
 "nbformat": 4,
 "nbformat_minor": 5
}
